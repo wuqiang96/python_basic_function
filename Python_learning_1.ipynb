{
 "cells": [
  {
   "cell_type": "markdown",
   "metadata": {},
   "source": [
    "# Python 学习 \n",
    "欢迎大家来学习Python，在本课中，你将学会如何自己写Python的简单语句，主要内容包括：\n",
    "\n",
    "## 1 练习使用Print\n",
    "- 熟悉Python库函数标识。\n",
    "- 学会使用 print 库函数。\n",
    "- 学会使用 input 库函数。\n",
    "\n",
    "## 2 认知Python中的变量类型\n",
    "- 学会定义整数、浮点型、字符串、布尔型变量。\n",
    "- 学会整数、浮点型之间简单的数学运算。\n",
    "- 学会变量之间相互转换。\n",
    "- 学会使用布尔型，以及简单的逻辑判断。\n",
    "- 认知一种特殊的变量：None。\n",
    "- 认知变量的赋值方法以及在内存中的表示。\n",
    "\n",
    "## 3 完成练习题"
   ]
  },
  {
   "cell_type": "markdown",
   "metadata": {},
   "source": [
    "# 第一个 Python 程序\n",
    "1.print 用绿色标识，表明print是系统库函数关键字，往往系统库函数关键字都有颜色标注。\n",
    "\n",
    "2.如果你想打印输出一句话，只需要在这句话上加上‘’或者“”，然后放入print()的括号中即可。\n",
    "\n",
    "使用Python的打印关键字print,打印自己想说的话。"
   ]
  },
  {
   "cell_type": "code",
   "execution_count": 132,
   "metadata": {},
   "outputs": [
    {
     "name": "stdout",
     "output_type": "stream",
     "text": [
      "Hello,world!\n"
     ]
    }
   ],
   "source": [
    " print('Hello,world!')"
   ]
  },
  {
   "cell_type": "markdown",
   "metadata": {},
   "source": [
    "3.print函数可以输入多个参数，将同时打印出来。通过空格将两个句子分隔。"
   ]
  },
  {
   "cell_type": "code",
   "execution_count": 133,
   "metadata": {},
   "outputs": [
    {
     "name": "stdout",
     "output_type": "stream",
     "text": [
      "Hello,World, My Name is Sam.\n"
     ]
    }
   ],
   "source": [
    "# print('Hello,World,My Name is Sam.')\n",
    "print('Hello,World,','My Name is Sam.')"
   ]
  },
  {
   "cell_type": "markdown",
   "metadata": {},
   "source": [
    "4.通过input() 输入自己的名字。可以将你输入的信息赋值给指定的变量。"
   ]
  },
  {
   "cell_type": "code",
   "execution_count": 137,
   "metadata": {},
   "outputs": [
    {
     "name": "stdout",
     "output_type": "stream",
     "text": [
      "please enter your name: wu\n",
      "hello, wu\n"
     ]
    }
   ],
   "source": [
    "name = input('please enter your name: ')\n",
    "print('hello,', name)"
   ]
  },
  {
   "cell_type": "code",
   "execution_count": 139,
   "metadata": {},
   "outputs": [
    {
     "name": "stdout",
     "output_type": "stream",
     "text": [
      "请输入你的姓名：伍强\n",
      "欢迎你，伍强\n"
     ]
    }
   ],
   "source": [
    "#练习，请在这里写下你的练习代码。如：打印你的名字\n",
    "my_name = input('请输入你的姓名：')\n",
    "print(\"欢迎你，{}\".format(my_name))"
   ]
  },
  {
   "cell_type": "markdown",
   "metadata": {},
   "source": [
    "# 数据类型与变量\n",
    "计算机顾名思义就是可以做数学计算的机器，因此，计算机程序理所当然地可以处理各种数值。但是，计算机能处理的远不止数值，还可以处理文本、图形、音频、视频、网页等各种各样的数据，不同的数据，需要定义不同的数据类型。在Python中，能够直接处理的数据类型有以下几种："
   ]
  },
  {
   "cell_type": "markdown",
   "metadata": {},
   "source": [
    "## 1.整数\n",
    "Python可以处理任意大小的整数，当然包括负整数，在程序中的表示方法和数学上的写法一模一样，例如：1，100，-8080，0，等等。\n",
    "\n",
    "### 1.1 使用 ‘+ - * / ’ 可以对整数进行计算。"
   ]
  },
  {
   "cell_type": "code",
   "execution_count": 1,
   "metadata": {},
   "outputs": [
    {
     "name": "stdout",
     "output_type": "stream",
     "text": [
      "<class 'int'>\n",
      "a + b =  300\n"
     ]
    }
   ],
   "source": [
    "a = 100\n",
    "b = 200\n",
    "print(type(a))\n",
    "print('a + b = ',a+b)"
   ]
  },
  {
   "cell_type": "code",
   "execution_count": null,
   "metadata": {
    "collapsed": true
   },
   "outputs": [],
   "source": [
    "# 请自己完成 - ， *， / 的运算\n",
    "# 分别计算 a - b , a * b , a / b , (a-b) * a "
   ]
  },
  {
   "cell_type": "markdown",
   "metadata": {},
   "source": [
    "### 1.2 使用 ‘**，abs,%’ 可以对整数进行平方绝对值等计算\n",
    "使用‘**’来完成平方的功能 "
   ]
  },
  {
   "cell_type": "code",
   "execution_count": null,
   "metadata": {
    "collapsed": true
   },
   "outputs": [],
   "source": [
    "a = 100\n",
    "print(a ** 2)\n",
    "print(a ** (1/16))"
   ]
  },
  {
   "cell_type": "markdown",
   "metadata": {},
   "source": [
    "使用abs函数来完成取绝对值的计算"
   ]
  },
  {
   "cell_type": "code",
   "execution_count": null,
   "metadata": {
    "collapsed": true
   },
   "outputs": [],
   "source": [
    "a = -3\n",
    "print(abs(a))"
   ]
  },
  {
   "cell_type": "markdown",
   "metadata": {},
   "source": [
    "使用‘%’来完成取余数的计算"
   ]
  },
  {
   "cell_type": "code",
   "execution_count": null,
   "metadata": {
    "collapsed": true
   },
   "outputs": [],
   "source": [
    "a = 10\n",
    "print(a % 3)"
   ]
  },
  {
   "cell_type": "code",
   "execution_count": null,
   "metadata": {
    "collapsed": true
   },
   "outputs": [],
   "source": [
    "# 请做一个简单的计算：两个水果篮，一个篮子15个苹果，另一个篮子14个苹果， 平均分给8个小朋友余几个苹果。"
   ]
  },
  {
   "cell_type": "markdown",
   "metadata": {},
   "source": [
    "## 2.浮点数\n",
    "\n",
    "浮点数也就是小数，之所以称为浮点数，是因为按照科学记数法表示时，一个浮点数的小数点位置是可变的，比如，1.23x10^9和12.3x10^8是完全相等的。浮点数可以用数学写法，如1.23，3.14，-9.01，等等。但是对于很大或很小的浮点数，就必须用科学计数法表示，把10用e替代，1.23x109就是1.23e9，或者12.3e8，0.000012可以写成1.2e-5，等等。\n",
    "\n",
    "整数和浮点数在计算机内部存储的方式是不同的，整数运算永远是精确的，而浮点数运算则可能会有四舍五入的误差。\n",
    "\n",
    "### 2.1 浮点数计算"
   ]
  },
  {
   "cell_type": "code",
   "execution_count": null,
   "metadata": {
    "collapsed": true
   },
   "outputs": [],
   "source": [
    "c = 5.2\n",
    "d = 2.6\n",
    "print(type(c))\n",
    "print('c / d =' ,c/d)"
   ]
  },
  {
   "cell_type": "markdown",
   "metadata": {},
   "source": [
    "### 2.2 浮点数的科学计数法"
   ]
  },
  {
   "cell_type": "code",
   "execution_count": 2,
   "metadata": {},
   "outputs": [
    {
     "data": {
      "text/plain": [
       "0.0"
      ]
     },
     "execution_count": 2,
     "metadata": {},
     "output_type": "execute_result"
    }
   ],
   "source": [
    "num1 = 1.23e9\n",
    "num2 = 12.3 * 10**8\n",
    "num1 - num2"
   ]
  },
  {
   "cell_type": "markdown",
   "metadata": {},
   "source": [
    "### 2.3浮点数和整数的存储空间"
   ]
  },
  {
   "cell_type": "code",
   "execution_count": 29,
   "metadata": {},
   "outputs": [
    {
     "name": "stdout",
     "output_type": "stream",
     "text": [
      "<class 'int'>\n",
      "<class 'float'>\n",
      "<class 'str'>\n",
      "28\n",
      "24\n",
      "50\n"
     ]
    }
   ],
   "source": [
    "import sys\n",
    "a1 = 1\n",
    "a2 = 1.0000000000000000\n",
    "a3 = \"c\"\n",
    "print(type(a1))\n",
    "print(type(a2))\n",
    "print(type(a3))\n",
    "print(sys.getsizeof(a1))\n",
    "print(sys.getsizeof(a2))\n",
    "print(sys.getsizeof(a3))"
   ]
  },
  {
   "cell_type": "markdown",
   "metadata": {},
   "source": [
    "## 3.字符串\n",
    "\n",
    "字符串是以单引号'或双引号\"括起来的任意文本，比如'abc'，\"xyz\"等等。请注意，‘ ’ 或 “ ” 本身只是一种表示方式，不是字符串的一部分，因此，字符串'abc'只有a，b，c这3个字符。如果'本身也是一个字符，那就可以用\"\"括起来，比如\"I'm OK\"包含的字符是I，'，m，空格，O，K这6个字符。\n",
    "### 3.1 定义字符串并打印"
   ]
  },
  {
   "cell_type": "code",
   "execution_count": 30,
   "metadata": {},
   "outputs": [
    {
     "name": "stdout",
     "output_type": "stream",
     "text": [
      "abc\n",
      "<class 'str'>\n",
      "I say 'Hello!'\n"
     ]
    }
   ],
   "source": [
    "str_a = \"abc\"\n",
    "\n",
    "print(str_a)\n",
    "print(type(str_a))\n",
    "a = \"I say 'Hello!'\"\n",
    "print(a)"
   ]
  },
  {
   "cell_type": "markdown",
   "metadata": {},
   "source": [
    "如果字符串内部既包含 ' 又包含 \" 怎么办？可以用转义字符\\来标识，比如："
   ]
  },
  {
   "cell_type": "code",
   "execution_count": 33,
   "metadata": {},
   "outputs": [
    {
     "name": "stdout",
     "output_type": "stream",
     "text": [
      "I'm \"OK\"!\n"
     ]
    }
   ],
   "source": [
    "print('I\\'m \\\"OK\\\"!')"
   ]
  },
  {
   "cell_type": "code",
   "execution_count": 35,
   "metadata": {},
   "outputs": [
    {
     "name": "stdout",
     "output_type": "stream",
     "text": [
      "I'm \"OK\"!\n"
     ]
    }
   ],
   "source": [
    "print(\"I\\'m \\\"OK\\\"!\")  #在代码中，字符串通常用单引号''，但是中英文的单引号看起来差异不大，容易出错"
   ]
  },
  {
   "cell_type": "raw",
   "metadata": {},
   "source": [
    "- 如果想在打印句子中间进行换行，可以使用\\n 来操作，比如"
   ]
  },
  {
   "cell_type": "code",
   "execution_count": 36,
   "metadata": {},
   "outputs": [
    {
     "name": "stdout",
     "output_type": "stream",
     "text": [
      "I'm learning\n",
      "Python.\n"
     ]
    }
   ],
   "source": [
    "print('I\\'m learning\\nPython.') #'\\n'之类的叫转义字符，常见的转义字符可参考PPT中内容"
   ]
  },
  {
   "cell_type": "raw",
   "metadata": {},
   "source": [
    "- 如果不想换行，而想把\\n打印出来，则需要在字符串之前加入 r 来标识。'r'的作用是将转义字符\\无效化。\n",
    "- 在文件路径的时候可能用到"
   ]
  },
  {
   "cell_type": "code",
   "execution_count": 54,
   "metadata": {},
   "outputs": [
    {
     "name": "stdout",
     "output_type": "stream",
     "text": [
      "I\\'m learning\\n Python.\n",
      "I'm learning\n",
      "Python.\n",
      "I'm learning\\nPython.\n",
      "D:\u0002_job\u0002_大数据培训\\大数据建模师phase I\\大数据建模师python培训\n",
      "D:\\02_job\\02_大数据培训\\大数据建模师phase I\\大数据建模师python培训\n"
     ]
    }
   ],
   "source": [
    "print(r'I\\'m learning\\n Python.')\n",
    "print('I\\'m', 'learning\\nPython.')\n",
    "print('I\\'m', r'learning\\nPython.')\n",
    "print('D:\\02_job\\02_大数据培训\\大数据建模师phase I\\大数据建模师python培训') #反斜杠\"\\\"接东西有可能发生意外转义，要注意\n",
    "print(r'D:\\02_job\\02_大数据培训\\大数据建模师phase I\\大数据建模师python培训')"
   ]
  },
  {
   "cell_type": "markdown",
   "metadata": {},
   "source": [
    "### 3.2 进行格式化输出\n",
    "当我们打印的一句话要掺杂几个变量时，我们可以先占位。最后再把变量按照顺序填充到所占的位置中。"
   ]
  },
  {
   "cell_type": "code",
   "execution_count": 67,
   "metadata": {},
   "outputs": [
    {
     "name": "stdout",
     "output_type": "stream",
     "text": [
      "Today I learned abcd,tomorrow I will learn efgh\n"
     ]
    }
   ],
   "source": [
    "#使用foemat进行格式化输出\n",
    "str1 = 'abcd'\n",
    "str2 = 'efgh'\n",
    "print('Today I learned {},tomorrow I will learn {}'.format(str1,str2))"
   ]
  },
  {
   "cell_type": "code",
   "execution_count": 71,
   "metadata": {},
   "outputs": [
    {
     "name": "stdout",
     "output_type": "stream",
     "text": [
      " He has black eyes and black hair and 226 cm tall .\n",
      "YaoMing is 226.000000 cm high\n",
      "YaoMing is 226 cm high\n"
     ]
    }
   ],
   "source": [
    "#使用占位符进行格式化输出\n",
    "str1 = 'black'\n",
    "str2 = 'black'\n",
    "height = 226.0\n",
    "print (\" He has %s eyes and %s hair and %d cm tall .\" %(str1,str2,height))\n",
    "\n",
    "print(\"YaoMing is %f cm high\" %height)\n",
    "print(\"YaoMing is %d cm high\" %height)"
   ]
  },
  {
   "cell_type": "markdown",
   "metadata": {},
   "source": [
    " ### 3.3 求字符串的长度\n",
    " 通过 len 函数，来计算字符串的长度"
   ]
  },
  {
   "cell_type": "code",
   "execution_count": 61,
   "metadata": {},
   "outputs": [
    {
     "data": {
      "text/plain": [
       "3"
      ]
     },
     "execution_count": 61,
     "metadata": {},
     "output_type": "execute_result"
    }
   ],
   "source": [
    "a = 'abc'\n",
    "len(a)"
   ]
  },
  {
   "cell_type": "markdown",
   "metadata": {},
   "source": [
    "### 3.4 字符串的切片\n",
    "\n",
    "通过序号，来访问字符串里的每一个字符。\n",
    "\n",
    "注意：Python的计数方式是从0开始的："
   ]
  },
  {
   "cell_type": "code",
   "execution_count": 63,
   "metadata": {
    "scrolled": true
   },
   "outputs": [
    {
     "name": "stdout",
     "output_type": "stream",
     "text": [
      "字符串的第一个字符： a\n",
      "字符串的第二个字符： b\n",
      "字符串的倒数第一个字符： k\n"
     ]
    }
   ],
   "source": [
    "str1 = 'abcdefghijk'\n",
    "print('字符串的第%d个字符：',str1[0])\n",
    "print('字符串的第二个字符：',str1[1])\n",
    "print('字符串的倒数第一个字符：',str1[-1])"
   ]
  },
  {
   "cell_type": "markdown",
   "metadata": {},
   "source": [
    "# 字符串还可以访问子集，如：\n",
    "\n",
    "str1[3:8] 表示的是：从字符串的第4个字符起，到第9个字符止，但不包括第9个字符。\n",
    "\n",
    "str1[5:-1] 表示的是：从字符串的第6个字符起，到倒数第1个字符止，但不包括倒数第1个字符。\n",
    "\n",
    "str1[-3:]  表示的是：从字符串倒数第3个字符起，到最后。\n",
    "\n",
    "str1[3:8:2] 表示的是：从字符串的第4个字符起，到第9个字符止，但不包括第9个字符;步进为2（每隔一个抽样1个）。"
   ]
  },
  {
   "cell_type": "code",
   "execution_count": 140,
   "metadata": {},
   "outputs": [
    {
     "name": "stdout",
     "output_type": "stream",
     "text": [
      "str1[3:8]: defgh\n",
      "str1[5:-1]: fghijklm\n",
      "str1[-3:]: lmn\n",
      "str1[3:8:2]: dfh\n"
     ]
    }
   ],
   "source": [
    "str1 = 'abcdefghijklmn'\n",
    "print('str1[3:8]:',str1[3:8])\n",
    "print('str1[5:-1]:',str1[5:-1])\n",
    "print('str1[-3:]:',str1[-3:])\n",
    "print('str1[3:8:2]:',str1[3:8:2])"
   ]
  },
  {
   "cell_type": "markdown",
   "metadata": {},
   "source": [
    "## 4.布尔值\n",
    "\n",
    "一个布尔值只有True、False两种值，要么是True，要么是False，在Python中，可以直接用True、False表示布尔值（请注意大小写），也可以通过布尔运算计算出来。\n",
    "### 4.1 定义布尔值"
   ]
  },
  {
   "cell_type": "code",
   "execution_count": 141,
   "metadata": {},
   "outputs": [
    {
     "name": "stdout",
     "output_type": "stream",
     "text": [
      "<class 'bool'>\n",
      "False\n"
     ]
    }
   ],
   "source": [
    "Bool = False\n",
    "print(type(Bool))\n",
    "print(Bool)"
   ]
  },
  {
   "cell_type": "markdown",
   "metadata": {},
   "source": [
    "使用如下操作符，能够计算得到布尔值：\n",
    "\n",
    "| 操作符   | 解释      |\n",
    "| --------  | ----------- |\n",
    "|  >      | 大于      |\n",
    "|  <      | 小于      |\n",
    "|  >=     | 大于等于   |\n",
    "|  <=     | 小于等于   | \n",
    "|  ==     | 值是否相等  |\n",
    "|  !=     | 值不相等   |\n",
    "|  is     | 判断是否为同一个变量|\n",
    "|  in     | 判断是否包含某一个变量|"
   ]
  },
  {
   "cell_type": "markdown",
   "metadata": {},
   "source": [
    "### 4.2 通过运算操作符，计算布尔值。"
   ]
  },
  {
   "cell_type": "code",
   "execution_count": 80,
   "metadata": {},
   "outputs": [
    {
     "name": "stdout",
     "output_type": "stream",
     "text": [
      "True\n"
     ]
    }
   ],
   "source": [
    "print(3 > 2)"
   ]
  },
  {
   "cell_type": "code",
   "execution_count": 81,
   "metadata": {},
   "outputs": [
    {
     "data": {
      "text/plain": [
       "False"
      ]
     },
     "execution_count": 81,
     "metadata": {},
     "output_type": "execute_result"
    }
   ],
   "source": [
    "2 > 3"
   ]
  },
  {
   "cell_type": "code",
   "execution_count": 99,
   "metadata": {},
   "outputs": [
    {
     "name": "stdout",
     "output_type": "stream",
     "text": [
      "<class 'int'>\n",
      "<class 'float'>\n",
      "False\n"
     ]
    }
   ],
   "source": [
    "a = 1\n",
    "b = 1.0\n",
    "print(type(a))\n",
    "print(type(b))\n",
    "print(a is b)"
   ]
  },
  {
   "cell_type": "code",
   "execution_count": 98,
   "metadata": {},
   "outputs": [
    {
     "name": "stdout",
     "output_type": "stream",
     "text": [
      "True\n",
      "True\n"
     ]
    }
   ],
   "source": [
    "s1 = \"display\"\n",
    "s2 = \"display\"\n",
    "s3 = \"play\"\n",
    "print(s1 is s2)\n",
    "print(s3 in s2)"
   ]
  },
  {
   "cell_type": "markdown",
   "metadata": {},
   "source": [
    "### 4.3 使用‘and,or,not’操作符，计算多条件布尔值。\n",
    "布尔值可以用 and、or 和 not 运算。\n",
    "\n",
    "布尔运算的优先级较低。\n",
    "\n",
    "and 运算是\"与\"运算，只有所有都为 True，and 运算结果才是 True："
   ]
  },
  {
   "cell_type": "code",
   "execution_count": 100,
   "metadata": {},
   "outputs": [
    {
     "data": {
      "text/plain": [
       "True"
      ]
     },
     "execution_count": 100,
     "metadata": {},
     "output_type": "execute_result"
    }
   ],
   "source": [
    "5 > 3 and 3 > 1"
   ]
  },
  {
   "cell_type": "code",
   "execution_count": 101,
   "metadata": {},
   "outputs": [
    {
     "data": {
      "text/plain": [
       "False"
      ]
     },
     "execution_count": 101,
     "metadata": {},
     "output_type": "execute_result"
    }
   ],
   "source": [
    "5 < 3 and 3 > 1"
   ]
  },
  {
   "cell_type": "markdown",
   "metadata": {},
   "source": [
    "or运算是\"或\"运算，只要其中有一个为True，or运算结果就是True："
   ]
  },
  {
   "cell_type": "code",
   "execution_count": 102,
   "metadata": {},
   "outputs": [
    {
     "data": {
      "text/plain": [
       "True"
      ]
     },
     "execution_count": 102,
     "metadata": {},
     "output_type": "execute_result"
    }
   ],
   "source": [
    "5 < 3 or 3 > 1"
   ]
  },
  {
   "cell_type": "markdown",
   "metadata": {},
   "source": [
    "not运算是非运算，它是一个单目运算符，把True变成False，False变成True:"
   ]
  },
  {
   "cell_type": "code",
   "execution_count": 103,
   "metadata": {},
   "outputs": [
    {
     "data": {
      "text/plain": [
       "False"
      ]
     },
     "execution_count": 103,
     "metadata": {},
     "output_type": "execute_result"
    }
   ],
   "source": [
    "not True"
   ]
  },
  {
   "cell_type": "code",
   "execution_count": 104,
   "metadata": {},
   "outputs": [
    {
     "data": {
      "text/plain": [
       "True"
      ]
     },
     "execution_count": 104,
     "metadata": {},
     "output_type": "execute_result"
    }
   ],
   "source": [
    "not 3 < 1"
   ]
  },
  {
   "cell_type": "code",
   "execution_count": 105,
   "metadata": {},
   "outputs": [
    {
     "data": {
      "text/plain": [
       "True"
      ]
     },
     "execution_count": 105,
     "metadata": {},
     "output_type": "execute_result"
    }
   ],
   "source": [
    "not 3 == 1"
   ]
  },
  {
   "cell_type": "markdown",
   "metadata": {},
   "source": [
    "## 5.变量格式转换\n",
    "由于变量的类型在程序中有可能改变，所以我们可以使用函数将变量类型进行转换。\n"
   ]
  },
  {
   "cell_type": "markdown",
   "metadata": {},
   "source": [
    "### 5.1 将整数转为其他类型\n",
    "当a代表一个整数：3 的时候：\n",
    "\n",
    "我们可以使用 float() 函数将a转换成浮点型 3.0;\n",
    "\n",
    "我们可以使用 str() 函数来将a转换为字符型的 '3';\n",
    "\n",
    "我们可以使用 bool() 函数来将a 转换为bool型的 True, 注意，只有整数 0 转换成bool时，才是 False."
   ]
  },
  {
   "cell_type": "code",
   "execution_count": 106,
   "metadata": {},
   "outputs": [
    {
     "name": "stdout",
     "output_type": "stream",
     "text": [
      "将整数型的a= 3 转换为浮点型的a: 3.0 <class 'float'>\n",
      "将整数型的a= 3 转换为字符型的a: 3 <class 'str'>\n",
      "将整数型的a= 3 转换为布尔型的a: True <class 'bool'>\n",
      "将整数型的b= 0 转换为布尔型的b: False\n"
     ]
    }
   ],
   "source": [
    "a = 3\n",
    "print('将整数型的a=',a,'转换为浮点型的a:',float(a),type(float(a)))\n",
    "print('将整数型的a=',a,'转换为字符型的a:',str(a),type(str(a)))# '3'\n",
    "print('将整数型的a=',a,'转换为布尔型的a:',bool(a),type(bool(a)))\n",
    "b = 0\n",
    "print('将整数型的b=',b,'转换为布尔型的b:',bool(b))"
   ]
  },
  {
   "cell_type": "markdown",
   "metadata": {},
   "source": [
    "### 5.2 将浮点数转为其他类型\n",
    "当a代表一个浮点数：3.8 的时候：\n",
    "\n",
    "我们可以使用 int() 函数将a转换成整数型 3,在这里使用了向下取整的操作;此时也可以用向下取整运算int(a)\n",
    "\n",
    "我们可以使用 str() 函数来将a转换为字符型的 '3.8';\n",
    "\n",
    "我们可以使用 bool() 函数来将a 转换为bool型的 True, 注意，只有浮点数 0.0 转换成bool时，才是 False."
   ]
  },
  {
   "cell_type": "code",
   "execution_count": 113,
   "metadata": {},
   "outputs": [
    {
     "name": "stdout",
     "output_type": "stream",
     "text": [
      "将浮点型的a= 3.8 转换为整数型的a 3 <class 'int'> \n",
      "\n",
      "将浮点型的a= 3.8 转换为字符型的a 3.8 <class 'str'> \n",
      "\n",
      "将浮点型的a= 3.8 转换为布尔型的a True <class 'bool'> \n",
      "\n",
      "将浮点型的b= 0.0 转换为布尔型的b False <class 'bool'>\n"
     ]
    }
   ],
   "source": [
    "a = 3.8\n",
    "print('将浮点型的a=',a,'转换为整数型的a',int(a),type(int(a)), '\\n')\n",
    "print('将浮点型的a=',a,'转换为字符型的a',str(a),type(str(a)), '\\n')\n",
    "print('将浮点型的a=',a,'转换为布尔型的a',bool(a),type(bool(a)), '\\n')\n",
    "b = 0.0\n",
    "print('将浮点型的b=',b,'转换为布尔型的b',bool(b),type(bool(b)))"
   ]
  },
  {
   "cell_type": "markdown",
   "metadata": {},
   "source": [
    "### 5.3 将字符串转为其他类型。\n",
    "\n",
    "当a代表一个字符串：'apple' 的时候：\n",
    "\n",
    "我们无法将 a 转换成整数和浮点数。\n",
    "\n",
    "我们可以使用 bool() 函数来将a 转换为bool型的 True, 注意，只有字符型''  转换成bool时，才是 False"
   ]
  },
  {
   "cell_type": "code",
   "execution_count": 122,
   "metadata": {},
   "outputs": [
    {
     "name": "stdout",
     "output_type": "stream",
     "text": [
      "将字符串型的a= apple 转换为布尔型的a True <class 'bool'>\n",
      "5\n",
      "1\n",
      "将字符串型的b=  转换为布尔型的b False <class 'bool'>\n",
      "0\n",
      "0\n"
     ]
    }
   ],
   "source": [
    "a = 'apple'\n",
    "print('将字符串型的a=',a,'转换为布尔型的a',bool(a),type(bool(a)))\n",
    "print(len(a))\n",
    "print(int(bool(a)))\n",
    "b = ''\n",
    "print('将字符串型的b=',b,'转换为布尔型的b',bool(b),type(bool(b)))\n",
    "print(len(b))\n",
    "print(int(bool(b)))"
   ]
  },
  {
   "cell_type": "markdown",
   "metadata": {},
   "source": [
    "当a代表一个数字字符：'3','3.8'的时候：\n",
    "\n",
    "我们可以使用 int() 函数将a转换成整数型 3,;\n",
    "\n",
    "我们可以使用 float() 函数来将a转换为浮点型的 '3.8';\n"
   ]
  },
  {
   "cell_type": "code",
   "execution_count": 123,
   "metadata": {},
   "outputs": [
    {
     "name": "stdout",
     "output_type": "stream",
     "text": [
      "将字符串型的a= 3 转换为整数型的a 3 <class 'int'>\n",
      "将字符串型的b= 3.8 转换为浮点型的a 3.8 <class 'float'>\n"
     ]
    }
   ],
   "source": [
    "a = '3'\n",
    "print('将字符串型的a=',a,'转换为整数型的a',int(a),type(int(a)))\n",
    "b = '3.8'\n",
    "print('将字符串型的b=',b,'转换为浮点型的a',float(b),type(float(b)))"
   ]
  },
  {
   "cell_type": "code",
   "execution_count": 124,
   "metadata": {},
   "outputs": [
    {
     "ename": "FileNotFoundError",
     "evalue": "[Errno 2] No such file or directory: 'D:\\\\CSOT\\\\课件\\\\python\\\\变量转换.png'",
     "output_type": "error",
     "traceback": [
      "\u001b[1;31m---------------------------------------------------------------------------\u001b[0m",
      "\u001b[1;31mFileNotFoundError\u001b[0m                         Traceback (most recent call last)",
      "\u001b[1;32m<ipython-input-124-f7f708a51a87>\u001b[0m in \u001b[0;36m<module>\u001b[1;34m()\u001b[0m\n\u001b[0;32m      1\u001b[0m \u001b[1;32mfrom\u001b[0m \u001b[0mIPython\u001b[0m\u001b[1;33m.\u001b[0m\u001b[0mdisplay\u001b[0m \u001b[1;32mimport\u001b[0m \u001b[0mImage\u001b[0m\u001b[1;33m\u001b[0m\u001b[0m\n\u001b[1;32m----> 2\u001b[1;33m \u001b[0mImage\u001b[0m\u001b[1;33m(\u001b[0m\u001b[0mfilename\u001b[0m\u001b[1;33m=\u001b[0m\u001b[1;34m'D:\\CSOT\\课件\\python\\\\变量转换.png'\u001b[0m\u001b[1;33m)\u001b[0m\u001b[1;33m\u001b[0m\u001b[0m\n\u001b[0m",
      "\u001b[1;32m~\\Anaconda3\\envs\\dlnd\\lib\\site-packages\\IPython\\core\\display.py\u001b[0m in \u001b[0;36m__init__\u001b[1;34m(self, data, url, filename, format, embed, width, height, retina, unconfined, metadata)\u001b[0m\n\u001b[0;32m   1063\u001b[0m         \u001b[0mself\u001b[0m\u001b[1;33m.\u001b[0m\u001b[0munconfined\u001b[0m \u001b[1;33m=\u001b[0m \u001b[0munconfined\u001b[0m\u001b[1;33m\u001b[0m\u001b[0m\n\u001b[0;32m   1064\u001b[0m         \u001b[0mself\u001b[0m\u001b[1;33m.\u001b[0m\u001b[0mmetadata\u001b[0m \u001b[1;33m=\u001b[0m \u001b[0mmetadata\u001b[0m\u001b[1;33m\u001b[0m\u001b[0m\n\u001b[1;32m-> 1065\u001b[1;33m         \u001b[0msuper\u001b[0m\u001b[1;33m(\u001b[0m\u001b[0mImage\u001b[0m\u001b[1;33m,\u001b[0m \u001b[0mself\u001b[0m\u001b[1;33m)\u001b[0m\u001b[1;33m.\u001b[0m\u001b[0m__init__\u001b[0m\u001b[1;33m(\u001b[0m\u001b[0mdata\u001b[0m\u001b[1;33m=\u001b[0m\u001b[0mdata\u001b[0m\u001b[1;33m,\u001b[0m \u001b[0murl\u001b[0m\u001b[1;33m=\u001b[0m\u001b[0murl\u001b[0m\u001b[1;33m,\u001b[0m \u001b[0mfilename\u001b[0m\u001b[1;33m=\u001b[0m\u001b[0mfilename\u001b[0m\u001b[1;33m)\u001b[0m\u001b[1;33m\u001b[0m\u001b[0m\n\u001b[0m\u001b[0;32m   1066\u001b[0m \u001b[1;33m\u001b[0m\u001b[0m\n\u001b[0;32m   1067\u001b[0m         \u001b[1;32mif\u001b[0m \u001b[0mretina\u001b[0m\u001b[1;33m:\u001b[0m\u001b[1;33m\u001b[0m\u001b[0m\n",
      "\u001b[1;32m~\\Anaconda3\\envs\\dlnd\\lib\\site-packages\\IPython\\core\\display.py\u001b[0m in \u001b[0;36m__init__\u001b[1;34m(self, data, url, filename)\u001b[0m\n\u001b[0;32m    603\u001b[0m         \u001b[0mself\u001b[0m\u001b[1;33m.\u001b[0m\u001b[0mfilename\u001b[0m \u001b[1;33m=\u001b[0m \u001b[0mfilename\u001b[0m\u001b[1;33m\u001b[0m\u001b[0m\n\u001b[0;32m    604\u001b[0m \u001b[1;33m\u001b[0m\u001b[0m\n\u001b[1;32m--> 605\u001b[1;33m         \u001b[0mself\u001b[0m\u001b[1;33m.\u001b[0m\u001b[0mreload\u001b[0m\u001b[1;33m(\u001b[0m\u001b[1;33m)\u001b[0m\u001b[1;33m\u001b[0m\u001b[0m\n\u001b[0m\u001b[0;32m    606\u001b[0m         \u001b[0mself\u001b[0m\u001b[1;33m.\u001b[0m\u001b[0m_check_data\u001b[0m\u001b[1;33m(\u001b[0m\u001b[1;33m)\u001b[0m\u001b[1;33m\u001b[0m\u001b[0m\n\u001b[0;32m    607\u001b[0m \u001b[1;33m\u001b[0m\u001b[0m\n",
      "\u001b[1;32m~\\Anaconda3\\envs\\dlnd\\lib\\site-packages\\IPython\\core\\display.py\u001b[0m in \u001b[0;36mreload\u001b[1;34m(self)\u001b[0m\n\u001b[0;32m   1085\u001b[0m         \u001b[1;34m\"\"\"Reload the raw data from file or URL.\"\"\"\u001b[0m\u001b[1;33m\u001b[0m\u001b[0m\n\u001b[0;32m   1086\u001b[0m         \u001b[1;32mif\u001b[0m \u001b[0mself\u001b[0m\u001b[1;33m.\u001b[0m\u001b[0membed\u001b[0m\u001b[1;33m:\u001b[0m\u001b[1;33m\u001b[0m\u001b[0m\n\u001b[1;32m-> 1087\u001b[1;33m             \u001b[0msuper\u001b[0m\u001b[1;33m(\u001b[0m\u001b[0mImage\u001b[0m\u001b[1;33m,\u001b[0m\u001b[0mself\u001b[0m\u001b[1;33m)\u001b[0m\u001b[1;33m.\u001b[0m\u001b[0mreload\u001b[0m\u001b[1;33m(\u001b[0m\u001b[1;33m)\u001b[0m\u001b[1;33m\u001b[0m\u001b[0m\n\u001b[0m\u001b[0;32m   1088\u001b[0m             \u001b[1;32mif\u001b[0m \u001b[0mself\u001b[0m\u001b[1;33m.\u001b[0m\u001b[0mretina\u001b[0m\u001b[1;33m:\u001b[0m\u001b[1;33m\u001b[0m\u001b[0m\n\u001b[0;32m   1089\u001b[0m                 \u001b[0mself\u001b[0m\u001b[1;33m.\u001b[0m\u001b[0m_retina_shape\u001b[0m\u001b[1;33m(\u001b[0m\u001b[1;33m)\u001b[0m\u001b[1;33m\u001b[0m\u001b[0m\n",
      "\u001b[1;32m~\\Anaconda3\\envs\\dlnd\\lib\\site-packages\\IPython\\core\\display.py\u001b[0m in \u001b[0;36mreload\u001b[1;34m(self)\u001b[0m\n\u001b[0;32m    621\u001b[0m         \u001b[1;34m\"\"\"Reload the raw data from file or URL.\"\"\"\u001b[0m\u001b[1;33m\u001b[0m\u001b[0m\n\u001b[0;32m    622\u001b[0m         \u001b[1;32mif\u001b[0m \u001b[0mself\u001b[0m\u001b[1;33m.\u001b[0m\u001b[0mfilename\u001b[0m \u001b[1;32mis\u001b[0m \u001b[1;32mnot\u001b[0m \u001b[1;32mNone\u001b[0m\u001b[1;33m:\u001b[0m\u001b[1;33m\u001b[0m\u001b[0m\n\u001b[1;32m--> 623\u001b[1;33m             \u001b[1;32mwith\u001b[0m \u001b[0mopen\u001b[0m\u001b[1;33m(\u001b[0m\u001b[0mself\u001b[0m\u001b[1;33m.\u001b[0m\u001b[0mfilename\u001b[0m\u001b[1;33m,\u001b[0m \u001b[0mself\u001b[0m\u001b[1;33m.\u001b[0m\u001b[0m_read_flags\u001b[0m\u001b[1;33m)\u001b[0m \u001b[1;32mas\u001b[0m \u001b[0mf\u001b[0m\u001b[1;33m:\u001b[0m\u001b[1;33m\u001b[0m\u001b[0m\n\u001b[0m\u001b[0;32m    624\u001b[0m                 \u001b[0mself\u001b[0m\u001b[1;33m.\u001b[0m\u001b[0mdata\u001b[0m \u001b[1;33m=\u001b[0m \u001b[0mf\u001b[0m\u001b[1;33m.\u001b[0m\u001b[0mread\u001b[0m\u001b[1;33m(\u001b[0m\u001b[1;33m)\u001b[0m\u001b[1;33m\u001b[0m\u001b[0m\n\u001b[0;32m    625\u001b[0m         \u001b[1;32melif\u001b[0m \u001b[0mself\u001b[0m\u001b[1;33m.\u001b[0m\u001b[0murl\u001b[0m \u001b[1;32mis\u001b[0m \u001b[1;32mnot\u001b[0m \u001b[1;32mNone\u001b[0m\u001b[1;33m:\u001b[0m\u001b[1;33m\u001b[0m\u001b[0m\n",
      "\u001b[1;31mFileNotFoundError\u001b[0m: [Errno 2] No such file or directory: 'D:\\\\CSOT\\\\课件\\\\python\\\\变量转换.png'"
     ]
    }
   ],
   "source": [
    "from IPython.display import Image\n",
    "Image(filename='D:\\CSOT\\课件\\python\\\\变量转换.png')"
   ]
  },
  {
   "cell_type": "markdown",
   "metadata": {},
   "source": [
    "## 6.逻辑判断\n",
    "布尔值经常用在条件判断中，这里使用了if，elif , else 条件判断结构。\n",
    "if 后面可以接条件语句比如：3 < 1 ，2 == 1 这样的语句。如果条件语句为真，则进入if结构下的代码继续执行，注意if下一级的结构需要空4格表示缩进，可使用Tab快捷键进行缩进。\n",
    "\n",
    "如果条件为假，则进入elif结构下的代码继续判断，同样该结构下的代码需要空4格表示缩进，最后进入else语句。\n",
    "\n",
    "在上面中介绍的一样，and 表示并列关系，or 表示或者关系， not 表示取反关系。\n",
    "\n",
    "例如："
   ]
  },
  {
   "cell_type": "code",
   "execution_count": 127,
   "metadata": {},
   "outputs": [
    {
     "name": "stdout",
     "output_type": "stream",
     "text": [
      "Please write down your age:25\n",
      "<class 'str'>\n",
      "You are a adult.\n"
     ]
    }
   ],
   "source": [
    "your_age = input('Please write down your age:')\n",
    "print(type(your_age))\n",
    "your_age = float(your_age)\n",
    "if your_age >= 18:\n",
    "    print('You are a adult.')\n",
    "elif your_age < 18 and your_age >= 12:\n",
    "    print('You are a teenage.')\n",
    "elif your_age < 12 and your_age >= 4:\n",
    "    print('You are a child.')\n",
    "elif your_age < 4 and your_age >= 0:\n",
    "    print('You are a baby.')\n",
    "else:\n",
    "    print('your age is wrong!')"
   ]
  },
  {
   "cell_type": "code",
   "execution_count": 126,
   "metadata": {},
   "outputs": [
    {
     "ename": "FileNotFoundError",
     "evalue": "[Errno 2] No such file or directory: 'D:\\\\CSOT\\\\课件\\\\python\\\\逻辑判断.png'",
     "output_type": "error",
     "traceback": [
      "\u001b[1;31m---------------------------------------------------------------------------\u001b[0m",
      "\u001b[1;31mFileNotFoundError\u001b[0m                         Traceback (most recent call last)",
      "\u001b[1;32m<ipython-input-126-9fe455e6eaf8>\u001b[0m in \u001b[0;36m<module>\u001b[1;34m()\u001b[0m\n\u001b[0;32m      1\u001b[0m \u001b[1;32mfrom\u001b[0m \u001b[0mIPython\u001b[0m\u001b[1;33m.\u001b[0m\u001b[0mdisplay\u001b[0m \u001b[1;32mimport\u001b[0m \u001b[0mImage\u001b[0m\u001b[1;33m\u001b[0m\u001b[0m\n\u001b[1;32m----> 2\u001b[1;33m \u001b[0mImage\u001b[0m\u001b[1;33m(\u001b[0m\u001b[0mfilename\u001b[0m\u001b[1;33m=\u001b[0m\u001b[1;34m'D:\\CSOT\\课件\\python\\\\逻辑判断.png'\u001b[0m\u001b[1;33m)\u001b[0m\u001b[1;33m\u001b[0m\u001b[0m\n\u001b[0m",
      "\u001b[1;32m~\\Anaconda3\\envs\\dlnd\\lib\\site-packages\\IPython\\core\\display.py\u001b[0m in \u001b[0;36m__init__\u001b[1;34m(self, data, url, filename, format, embed, width, height, retina, unconfined, metadata)\u001b[0m\n\u001b[0;32m   1063\u001b[0m         \u001b[0mself\u001b[0m\u001b[1;33m.\u001b[0m\u001b[0munconfined\u001b[0m \u001b[1;33m=\u001b[0m \u001b[0munconfined\u001b[0m\u001b[1;33m\u001b[0m\u001b[0m\n\u001b[0;32m   1064\u001b[0m         \u001b[0mself\u001b[0m\u001b[1;33m.\u001b[0m\u001b[0mmetadata\u001b[0m \u001b[1;33m=\u001b[0m \u001b[0mmetadata\u001b[0m\u001b[1;33m\u001b[0m\u001b[0m\n\u001b[1;32m-> 1065\u001b[1;33m         \u001b[0msuper\u001b[0m\u001b[1;33m(\u001b[0m\u001b[0mImage\u001b[0m\u001b[1;33m,\u001b[0m \u001b[0mself\u001b[0m\u001b[1;33m)\u001b[0m\u001b[1;33m.\u001b[0m\u001b[0m__init__\u001b[0m\u001b[1;33m(\u001b[0m\u001b[0mdata\u001b[0m\u001b[1;33m=\u001b[0m\u001b[0mdata\u001b[0m\u001b[1;33m,\u001b[0m \u001b[0murl\u001b[0m\u001b[1;33m=\u001b[0m\u001b[0murl\u001b[0m\u001b[1;33m,\u001b[0m \u001b[0mfilename\u001b[0m\u001b[1;33m=\u001b[0m\u001b[0mfilename\u001b[0m\u001b[1;33m)\u001b[0m\u001b[1;33m\u001b[0m\u001b[0m\n\u001b[0m\u001b[0;32m   1066\u001b[0m \u001b[1;33m\u001b[0m\u001b[0m\n\u001b[0;32m   1067\u001b[0m         \u001b[1;32mif\u001b[0m \u001b[0mretina\u001b[0m\u001b[1;33m:\u001b[0m\u001b[1;33m\u001b[0m\u001b[0m\n",
      "\u001b[1;32m~\\Anaconda3\\envs\\dlnd\\lib\\site-packages\\IPython\\core\\display.py\u001b[0m in \u001b[0;36m__init__\u001b[1;34m(self, data, url, filename)\u001b[0m\n\u001b[0;32m    603\u001b[0m         \u001b[0mself\u001b[0m\u001b[1;33m.\u001b[0m\u001b[0mfilename\u001b[0m \u001b[1;33m=\u001b[0m \u001b[0mfilename\u001b[0m\u001b[1;33m\u001b[0m\u001b[0m\n\u001b[0;32m    604\u001b[0m \u001b[1;33m\u001b[0m\u001b[0m\n\u001b[1;32m--> 605\u001b[1;33m         \u001b[0mself\u001b[0m\u001b[1;33m.\u001b[0m\u001b[0mreload\u001b[0m\u001b[1;33m(\u001b[0m\u001b[1;33m)\u001b[0m\u001b[1;33m\u001b[0m\u001b[0m\n\u001b[0m\u001b[0;32m    606\u001b[0m         \u001b[0mself\u001b[0m\u001b[1;33m.\u001b[0m\u001b[0m_check_data\u001b[0m\u001b[1;33m(\u001b[0m\u001b[1;33m)\u001b[0m\u001b[1;33m\u001b[0m\u001b[0m\n\u001b[0;32m    607\u001b[0m \u001b[1;33m\u001b[0m\u001b[0m\n",
      "\u001b[1;32m~\\Anaconda3\\envs\\dlnd\\lib\\site-packages\\IPython\\core\\display.py\u001b[0m in \u001b[0;36mreload\u001b[1;34m(self)\u001b[0m\n\u001b[0;32m   1085\u001b[0m         \u001b[1;34m\"\"\"Reload the raw data from file or URL.\"\"\"\u001b[0m\u001b[1;33m\u001b[0m\u001b[0m\n\u001b[0;32m   1086\u001b[0m         \u001b[1;32mif\u001b[0m \u001b[0mself\u001b[0m\u001b[1;33m.\u001b[0m\u001b[0membed\u001b[0m\u001b[1;33m:\u001b[0m\u001b[1;33m\u001b[0m\u001b[0m\n\u001b[1;32m-> 1087\u001b[1;33m             \u001b[0msuper\u001b[0m\u001b[1;33m(\u001b[0m\u001b[0mImage\u001b[0m\u001b[1;33m,\u001b[0m\u001b[0mself\u001b[0m\u001b[1;33m)\u001b[0m\u001b[1;33m.\u001b[0m\u001b[0mreload\u001b[0m\u001b[1;33m(\u001b[0m\u001b[1;33m)\u001b[0m\u001b[1;33m\u001b[0m\u001b[0m\n\u001b[0m\u001b[0;32m   1088\u001b[0m             \u001b[1;32mif\u001b[0m \u001b[0mself\u001b[0m\u001b[1;33m.\u001b[0m\u001b[0mretina\u001b[0m\u001b[1;33m:\u001b[0m\u001b[1;33m\u001b[0m\u001b[0m\n\u001b[0;32m   1089\u001b[0m                 \u001b[0mself\u001b[0m\u001b[1;33m.\u001b[0m\u001b[0m_retina_shape\u001b[0m\u001b[1;33m(\u001b[0m\u001b[1;33m)\u001b[0m\u001b[1;33m\u001b[0m\u001b[0m\n",
      "\u001b[1;32m~\\Anaconda3\\envs\\dlnd\\lib\\site-packages\\IPython\\core\\display.py\u001b[0m in \u001b[0;36mreload\u001b[1;34m(self)\u001b[0m\n\u001b[0;32m    621\u001b[0m         \u001b[1;34m\"\"\"Reload the raw data from file or URL.\"\"\"\u001b[0m\u001b[1;33m\u001b[0m\u001b[0m\n\u001b[0;32m    622\u001b[0m         \u001b[1;32mif\u001b[0m \u001b[0mself\u001b[0m\u001b[1;33m.\u001b[0m\u001b[0mfilename\u001b[0m \u001b[1;32mis\u001b[0m \u001b[1;32mnot\u001b[0m \u001b[1;32mNone\u001b[0m\u001b[1;33m:\u001b[0m\u001b[1;33m\u001b[0m\u001b[0m\n\u001b[1;32m--> 623\u001b[1;33m             \u001b[1;32mwith\u001b[0m \u001b[0mopen\u001b[0m\u001b[1;33m(\u001b[0m\u001b[0mself\u001b[0m\u001b[1;33m.\u001b[0m\u001b[0mfilename\u001b[0m\u001b[1;33m,\u001b[0m \u001b[0mself\u001b[0m\u001b[1;33m.\u001b[0m\u001b[0m_read_flags\u001b[0m\u001b[1;33m)\u001b[0m \u001b[1;32mas\u001b[0m \u001b[0mf\u001b[0m\u001b[1;33m:\u001b[0m\u001b[1;33m\u001b[0m\u001b[0m\n\u001b[0m\u001b[0;32m    624\u001b[0m                 \u001b[0mself\u001b[0m\u001b[1;33m.\u001b[0m\u001b[0mdata\u001b[0m \u001b[1;33m=\u001b[0m \u001b[0mf\u001b[0m\u001b[1;33m.\u001b[0m\u001b[0mread\u001b[0m\u001b[1;33m(\u001b[0m\u001b[1;33m)\u001b[0m\u001b[1;33m\u001b[0m\u001b[0m\n\u001b[0;32m    625\u001b[0m         \u001b[1;32melif\u001b[0m \u001b[0mself\u001b[0m\u001b[1;33m.\u001b[0m\u001b[0murl\u001b[0m \u001b[1;32mis\u001b[0m \u001b[1;32mnot\u001b[0m \u001b[1;32mNone\u001b[0m\u001b[1;33m:\u001b[0m\u001b[1;33m\u001b[0m\u001b[0m\n",
      "\u001b[1;31mFileNotFoundError\u001b[0m: [Errno 2] No such file or directory: 'D:\\\\CSOT\\\\课件\\\\python\\\\逻辑判断.png'"
     ]
    }
   ],
   "source": [
    "from IPython.display import Image\n",
    "Image(filename='D:\\CSOT\\课件\\python\\\\逻辑判断.png')"
   ]
  },
  {
   "cell_type": "code",
   "execution_count": null,
   "metadata": {
    "collapsed": true
   },
   "outputs": [],
   "source": [
    "#仿照上面的例子，写一个逻辑判断：输入一个变量，代表准确率的含义。\n",
    "#当准确率< 0.8 时，输出结果较差，反之，则输出结果较好，当准确率为负值时，输出计算错误。"
   ]
  },
  {
   "cell_type": "markdown",
   "metadata": {},
   "source": [
    "## 7.空值\n",
    "\n",
    "空值是Python里一个特殊的值，用None表示。None不能理解为0，因为0是有意义的，而None是一个特殊的空值。\n",
    "\n",
    "此外，Python还提供了列表、字典等多种数据类型，还允许创建自定义数据类型，我们后面会继续讲到。"
   ]
  },
  {
   "cell_type": "code",
   "execution_count": 125,
   "metadata": {},
   "outputs": [
    {
     "name": "stdout",
     "output_type": "stream",
     "text": [
      "<class 'NoneType'>\n",
      "None\n"
     ]
    }
   ],
   "source": [
    "None_value = None\n",
    "print(type(None_value))\n",
    "print(None_value)"
   ]
  },
  {
   "cell_type": "markdown",
   "metadata": {},
   "source": [
    "# 变量\n",
    "\n",
    "变量的概念基本上和初中代数的方程变量是一致的，只是在计算机程序中，变量不仅可以是数字，还可以是任意数据类型。\n",
    "\n",
    "变量在程序中就是用一个变量名表示了，变量名必须是大小写英文、数字和_的组合，且不能用数字开头，变量不能以数字开头，比如：\n",
    "\n",
    "变量name 是一个字符串，变量age 是一个整数，变量weight 是一个浮点数，变量isman 是一个bool值,变量salary 是一个空值。"
   ]
  },
  {
   "cell_type": "code",
   "execution_count": 142,
   "metadata": {
    "collapsed": true
   },
   "outputs": [],
   "source": [
    "name ='sandy'\n",
    "my_age = 18\n",
    "weight = 60.5\n",
    "isman = True\n",
    "salary = None"
   ]
  },
  {
   "cell_type": "markdown",
   "metadata": {},
   "source": [
    "## 1.变量赋值\n",
    "在Python中，等号=是赋值语句，可以把任意数据类型赋值给变量，同一个变量可以反复赋值，而且可以是不同类型的变量，这种变量本身类型不固定的语言称之为动态语言，与之对应的是静态语言。和静态语言相比，动态语言更灵活。"
   ]
  },
  {
   "cell_type": "code",
   "execution_count": 144,
   "metadata": {},
   "outputs": [
    {
     "name": "stdout",
     "output_type": "stream",
     "text": [
      "ABC\n"
     ]
    }
   ],
   "source": [
    "a = 123 # a是整数\n",
    "#print(a)\n",
    "a = 'ABC' # a变为字符串\n",
    "print(a)"
   ]
  },
  {
   "cell_type": "markdown",
   "metadata": {},
   "source": [
    "请不要把赋值语句的等号等同于数学的等号。比如下面的代码，如果从数学上理解x = x + 2那无论如何是不成立的，在程序中，赋值语句先计算右侧的表达式x + 2，得到结果12，再赋给变量x。由于x之前的值是10，重新赋值后，x的值变成12。"
   ]
  },
  {
   "cell_type": "code",
   "execution_count": 145,
   "metadata": {},
   "outputs": [
    {
     "name": "stdout",
     "output_type": "stream",
     "text": [
      "12\n"
     ]
    }
   ],
   "source": [
    "x = 10\n",
    "x = x + 2\n",
    "print(x)"
   ]
  },
  {
   "cell_type": "markdown",
   "metadata": {},
   "source": [
    "## 2.变量在内存中的表示\n",
    "\n",
    "当我们定义 a = 'abc' 时，\n",
    "Python解释器干了两件事情：\n",
    "\n",
    "1.在内存中创建了一个'ABC'的字符串；\n",
    "2.在内存中创建了一个名为a的变量，并把它指向'ABC'。\n",
    "\n",
    "也可以把一个变量a赋值给另一个变量b，这个操作实际上是把变量b指向变量a所指向的数据，例如下面的代码："
   ]
  },
  {
   "cell_type": "code",
   "execution_count": 148,
   "metadata": {},
   "outputs": [
    {
     "name": "stdout",
     "output_type": "stream",
     "text": [
      "a is: ABC\n",
      "ABC\n",
      "b is: ABC\n"
     ]
    }
   ],
   "source": [
    "a = 'ABC'\n",
    "b = a\n",
    "print(\"a is:\",a)\n",
    "a = 'XYZ'\n",
    "print(b)\n",
    "print(\"b is:\",b)"
   ]
  },
  {
   "cell_type": "code",
   "execution_count": null,
   "metadata": {
    "collapsed": true
   },
   "outputs": [],
   "source": [
    "from IPython.display import Image\n",
    "Image(filename='D:\\CSOT\\课件\\python\\\\内存中的变量.png')"
   ]
  },
  {
   "cell_type": "markdown",
   "metadata": {},
   "source": [
    "# 练习1\n",
    "例子：定义自己的名字，年龄，身高，体重，并做一段自我介绍。并且假设你有一个13岁的妹妹，计算你比她大多少岁。\n",
    "\n",
    "在练习时，应注意编码规范：\n",
    "- 变量名首字母不用大写，来表明该变量的作用大小。\n",
    "\n",
    "我们通常在定义类（一个比较大的概念）时，使用首字母大写。而在定义变量（相对较小的概念）时，使用首字母小写。\n",
    "- 变量命名应该尽量表达出含义，以便代码复查时能清楚变量的含义\n",
    "\n",
    "我们使用 my_name,my_age 而不使用 A,B。 因为A,B作为变量名不附带任何信息。\n",
    "- 在适当的地方进行空格，使代码看起来不凌乱。\n",
    "\n",
    "我们使用 my_name   =   'sandy' 而不使用 my_name='sandy' 。\n",
    "- 使用#进行代码注释，一般注释的地方为代码之前。当需要注释的内容较多时，使用''' '''。"
   ]
  },
  {
   "cell_type": "code",
   "execution_count": 149,
   "metadata": {},
   "outputs": [],
   "source": [
    "#变量赋值\n",
    "\n",
    "\n",
    "#输出变量信息\n",
    "\n"
   ]
  },
  {
   "cell_type": "markdown",
   "metadata": {},
   "source": [
    "仿照上面的例子介绍你的两个朋友，并计算他们的年龄差。"
   ]
  },
  {
   "cell_type": "code",
   "execution_count": null,
   "metadata": {
    "collapsed": true
   },
   "outputs": [],
   "source": [
    "#write down your code in here\n",
    "\n"
   ]
  },
  {
   "cell_type": "markdown",
   "metadata": {},
   "source": [
    "# 练习2\n",
    "计算3^2018 的个位数是几。"
   ]
  },
  {
   "cell_type": "code",
   "execution_count": 4,
   "metadata": {},
   "outputs": [
    {
     "name": "stdout",
     "output_type": "stream",
     "text": [
      "9\n"
     ]
    }
   ],
   "source": [
    "num = 3**2018\n",
    "str_num = str(num)\n",
    "print(str_num[-1])"
   ]
  },
  {
   "cell_type": "markdown",
   "metadata": {},
   "source": [
    "仿照上面的例子，计算 3^100 + 4^100 + 7^100 的个位数是几。"
   ]
  },
  {
   "cell_type": "code",
   "execution_count": 2,
   "metadata": {},
   "outputs": [
    {
     "name": "stdout",
     "output_type": "stream",
     "text": [
      "8\n"
     ]
    }
   ],
   "source": [
    "#write down your code in here\n"
   ]
  },
  {
   "cell_type": "markdown",
   "metadata": {},
   "source": [
    "## 挑战练习：\n",
    "写一个身高体重评测小程序，使用input函数来获取输入一个人的身高，体重的数值。根据身高和体重来判断这个人身材是否标准，判断依据如下：\n",
    "\n",
    "男性：标准体重 = 身高 - 105.\n",
    "\n",
    "女性：标准体重 = 身高 - 100.\n",
    "\n",
    "如果体重是标准体重的120%以上，则打印输出“身材肥胖”;\n",
    "\n",
    "如果体重是标准体重的80%以下，则打印输出“营养不良”;\n",
    "\n",
    "如果体重是标准体重的80%~120%之间，则打印输出“身材匀称”;"
   ]
  },
  {
   "cell_type": "code",
   "execution_count": null,
   "metadata": {
    "collapsed": true
   },
   "outputs": [],
   "source": [
    "#在此处写下你的代码，请在代码后面进行备注，说明代码的意思。\n"
   ]
  }
 ],
 "metadata": {
  "kernelspec": {
   "display_name": "Python 3",
   "language": "python",
   "name": "python3"
  },
  "language_info": {
   "codemirror_mode": {
    "name": "ipython",
    "version": 3
   },
   "file_extension": ".py",
   "mimetype": "text/x-python",
   "name": "python",
   "nbconvert_exporter": "python",
   "pygments_lexer": "ipython3",
   "version": "3.5.4"
  }
 },
 "nbformat": 4,
 "nbformat_minor": 2
}
